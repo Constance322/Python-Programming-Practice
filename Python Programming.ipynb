{
 "cells": [
  {
   "cell_type": "markdown",
   "id": "56ecb7e2-683c-4ec7-995e-42270e5f46b2",
   "metadata": {},
   "source": [
    "Python Programming Introduction"
   ]
  },
  {
   "cell_type": "markdown",
   "id": "8bb2815a-95d6-4fd4-8394-308f0f898bf7",
   "metadata": {},
   "source": [
    "Python First Program"
   ]
  },
  {
   "cell_type": "code",
   "execution_count": 1,
   "id": "6ee2d5ed-788c-4b1f-9d9b-cdb40914cced",
   "metadata": {},
   "outputs": [
    {
     "name": "stdout",
     "output_type": "stream",
     "text": [
      "Hello World!\n"
     ]
    }
   ],
   "source": [
    "print(\"Hello World!\")"
   ]
  },
  {
   "cell_type": "markdown",
   "id": "e2051207-b12c-42ab-ad8c-57227e8a3a0e",
   "metadata": {},
   "source": [
    "Python Keywords\n",
    "- reserved for python programming\n",
    "- Have a special meaning to the compiler\n",
    "- Keywords cannot be used to name variables, functions and classes"
   ]
  },
  {
   "cell_type": "markdown",
   "id": "570871f1-c8eb-43f7-b1c0-735772bb18c9",
   "metadata": {},
   "source": [
    "Identifiers\n",
    "- name variables, classes and functions\n",
    "- cannot be key words\n",
    "  "
   ]
  },
  {
   "cell_type": "code",
   "execution_count": 1,
   "id": "c4daab1d-12e8-4506-85fc-8573159ad496",
   "metadata": {},
   "outputs": [
    {
     "name": "stdin",
     "output_type": "stream",
     "text": [
      "Enter your name Constance Syombua\n"
     ]
    },
    {
     "name": "stdout",
     "output_type": "stream",
     "text": [
      "Constance Syombua\n"
     ]
    }
   ],
   "source": [
    "name=input(\"Enter your name\")\n",
    "print(name)"
   ]
  },
  {
   "cell_type": "markdown",
   "id": "2602933f-4d27-408e-92cd-08180253ee7f",
   "metadata": {},
   "source": [
    "Variable\n",
    "- container to hold data\n",
    "  "
   ]
  },
  {
   "cell_type": "code",
   "execution_count": 2,
   "id": "23c933ed-a46d-495c-9cf3-8c6ff81baa2f",
   "metadata": {},
   "outputs": [
    {
     "name": "stdout",
     "output_type": "stream",
     "text": [
      "Jupyter Notebook\n"
     ]
    }
   ],
   "source": [
    "site_name=(\"Jupyter Notebook\")\n",
    "print(site_name)"
   ]
  },
  {
   "cell_type": "code",
   "execution_count": 5,
   "id": "b51a42e1-2998-42e0-a90b-1c5b212f7de9",
   "metadata": {},
   "outputs": [
    {
     "name": "stdout",
     "output_type": "stream",
     "text": [
      "Jupyter Notebook\n",
      "Jupyter Lab\n"
     ]
    }
   ],
   "source": [
    "site_name=(\"Jupyter Notebook\")\n",
    "print(site_name)\n",
    "site_name=(\"Jupyter Lab\")\n",
    "\n",
    "print(site_name)"
   ]
  },
  {
   "cell_type": "code",
   "execution_count": 8,
   "id": "d0607677-7e40-4533-b864-34271c24b326",
   "metadata": {},
   "outputs": [
    {
     "name": "stdout",
     "output_type": "stream",
     "text": [
      "1 2 Hi\n"
     ]
    }
   ],
   "source": [
    "a, b, c = 1, 2, \"Hi\"\n",
    "print(a, b, c)"
   ]
  },
  {
   "cell_type": "code",
   "execution_count": 9,
   "id": "070d8c4b-7bdc-45ce-82f6-236b67fac1fa",
   "metadata": {},
   "outputs": [
    {
     "name": "stdout",
     "output_type": "stream",
     "text": [
      "1\n",
      "2\n",
      "Hi\n"
     ]
    }
   ],
   "source": [
    "a, b, c = 1, 2, \"Hi\"\n",
    "print(a)\n",
    "print(b)\n",
    "print(c)"
   ]
  },
  {
   "cell_type": "code",
   "execution_count": 10,
   "id": "ab63aadf-a21a-43fa-9774-8089e2a22da6",
   "metadata": {},
   "outputs": [
    {
     "name": "stdout",
     "output_type": "stream",
     "text": [
      "Jupyter Notebook\n",
      "Jupyter Notebook\n"
     ]
    }
   ],
   "source": [
    "site1=site2=(\"Jupyter Notebook\")\n",
    "print(site1)\n",
    "print(site2)"
   ]
  },
  {
   "cell_type": "markdown",
   "id": "6671579f-e2ad-4528-9c3f-cecb00a1ec38",
   "metadata": {},
   "source": [
    "Python Constants\n",
    "- variable whose value cannot be changed\n",
    "- declared and assigned in a module\n",
    "- imported to the main file"
   ]
  },
  {
   "cell_type": "code",
   "execution_count": 11,
   "id": "bcf766d0-a41f-48b3-9f64-d922b56efa05",
   "metadata": {},
   "outputs": [],
   "source": [
    "PI=3.14\n",
    "GRAVITY=9.8"
   ]
  },
  {
   "cell_type": "code",
   "execution_count": 12,
   "id": "d77fdda4-b7e1-4d2a-8f1a-6a0aaae3dce3",
   "metadata": {},
   "outputs": [
    {
     "name": "stdout",
     "output_type": "stream",
     "text": [
      "3.14\n",
      "9.8\n"
     ]
    }
   ],
   "source": [
    "print(PI)\n",
    "print(GRAVITY)"
   ]
  },
  {
   "cell_type": "markdown",
   "id": "480b1fcb-0025-4db9-a422-db25fcd49213",
   "metadata": {},
   "source": [
    "Literals\n",
    "- represenation of fixed values in a program\n",
    "- used to assign values to variable/constants\n",
    "- can be numerals, characters or boolean\n",
    "- special literal = \"None\"; No value assigned to it"
   ]
  },
  {
   "cell_type": "code",
   "execution_count": 14,
   "id": "3ef674a5-ecba-4eec-871a-550501a01d66",
   "metadata": {},
   "outputs": [
    {
     "name": "stdout",
     "output_type": "stream",
     "text": [
      "None\n"
     ]
    }
   ],
   "source": [
    "value = None\n",
    "print(value)"
   ]
  },
  {
   "cell_type": "markdown",
   "id": "a57e1ab4-7af9-48e9-a86e-d450806747d9",
   "metadata": {},
   "source": [
    "Literal Collections\n",
    "1. List\n",
    "2. Tuple\n",
    "3. Dict\n",
    "4. Set\n"
   ]
  },
  {
   "cell_type": "code",
   "execution_count": 18,
   "id": "73680376-d0ea-4430-b765-bd3542c63d79",
   "metadata": {},
   "outputs": [
    {
     "name": "stdout",
     "output_type": "stream",
     "text": [
      "['apple', 'mango', 'orange']\n",
      "(1, 2, 3, 4, 5)\n",
      "{'a': 'apple', 'c': 'cat', 'd': 'dog'}\n",
      "('a', 'e', 'i', 'o', 'u')\n"
     ]
    }
   ],
   "source": [
    "#List Literal\n",
    "fruits=[\"apple\", \"mango\", \"orange\"]\n",
    "print(fruits)\n",
    "\n",
    "#Tuple Literal\n",
    "number=(1, 2, 3, 4, 5)\n",
    "print(number)\n",
    "\n",
    "#Dict Literal\n",
    "letters ={'a':'apple', 'c':'cat', 'd':'dog'}\n",
    "print(letters)\n",
    "\n",
    "#Set\n",
    "vowels = ('a', 'e', 'i', 'o', 'u')\n",
    "print(vowels)"
   ]
  },
  {
   "cell_type": "markdown",
   "id": "85aea971-29af-4f2e-9749-327c73bdc038",
   "metadata": {},
   "source": [
    "Data Types\n",
    "- specify the type of variable that can be stored in a variable\n",
    "- "
   ]
  },
  {
   "cell_type": "code",
   "execution_count": 21,
   "id": "03d34bd9-f51c-4df2-b8e6-3984b676a2e5",
   "metadata": {},
   "outputs": [
    {
     "name": "stdout",
     "output_type": "stream",
     "text": [
      "<class 'list'>\n",
      "<class 'tuple'>\n",
      "<class 'dict'>\n",
      "<class 'tuple'>\n"
     ]
    }
   ],
   "source": [
    "print(type(fruits))\n",
    "print(type(number))\n",
    "print(type(letters))\n",
    "print(type(vowels))"
   ]
  },
  {
   "cell_type": "code",
   "execution_count": 23,
   "id": "aa7d3b88-9c47-4617-9dd1-5c38f4d8daf3",
   "metadata": {},
   "outputs": [
    {
     "name": "stdout",
     "output_type": "stream",
     "text": [
      "Python <class 'str'>\n",
      "Scala <class 'str'>\n"
     ]
    }
   ],
   "source": [
    "languages=(\"Python\", \"Scala\", \"SQL\")\n",
    "print(languages[0], type(languages[0]))\n",
    "print(languages[1], type(languages[1]))"
   ]
  },
  {
   "cell_type": "code",
   "execution_count": 28,
   "id": "58331137-9448-4ce2-a413-5f8f47818f42",
   "metadata": {},
   "outputs": [
    {
     "name": "stdout",
     "output_type": "stream",
     "text": [
      "{112, 113, 114, 115, 116} <class 'set'>\n"
     ]
    }
   ],
   "source": [
    "student_id={112, 113, 114, 115, 116}\n",
    "print(student_id, type(student_id))"
   ]
  },
  {
   "cell_type": "markdown",
   "id": "d89a456f-8301-4fb1-9050-05bb718606b7",
   "metadata": {},
   "source": [
    "Python Type Conversion\n",
    "- converting one data of one type to another\n",
    "- two types\n",
    "  1. Implicit Conversion\n",
    "     - python automatically converts one data type to another\n",
    "     - conversion of lower data type(integer) to higher data type(float) to avoid data loss\n",
    "  2. Explicit Conversion\n",
    "     - users convert data type of an object to a required data type\n",
    "     - use built in functions like int(), str(), float() to perform conversion\n",
    "     - also called \"typecasting\" because the user changes the data types of the objects\n",
    "     - python always converts smaller data types to larger data types to avoid the loss of data\n",
    "       "
   ]
  },
  {
   "cell_type": "code",
   "execution_count": 29,
   "id": "643006df-7bef-46bb-9db6-f4a2722d7a0d",
   "metadata": {},
   "outputs": [
    {
     "name": "stdout",
     "output_type": "stream",
     "text": [
      "124.23 <class 'float'>\n"
     ]
    }
   ],
   "source": [
    "#Implict Conversion\n",
    "integer_number=123\n",
    "float_number=1.23\n",
    "\n",
    "new_number=integer_number+float_number\n",
    "print(new_number, type(new_number))"
   ]
  },
  {
   "cell_type": "code",
   "execution_count": 31,
   "id": "438b9c6c-64ed-481c-bd76-b202c269c2c5",
   "metadata": {},
   "outputs": [
    {
     "name": "stdout",
     "output_type": "stream",
     "text": [
      "Data type of num_string before conversion: <class 'str'>\n",
      "Data type of num_string after conversion: <class 'int'>\n",
      "36 <class 'int'>\n"
     ]
    }
   ],
   "source": [
    "#Explicit Conversion\n",
    "num_string='12'\n",
    "num_integer=24\n",
    "\n",
    "print(\"Data type of num_string before conversion:\", type(num_string))\n",
    "\n",
    "num_string=int(num_string)\n",
    "\n",
    "print(\"Data type of num_string after conversion:\", type(num_string))\n",
    "\n",
    "new_number=num_string + num_integer\n",
    "print(new_number, type(new_number))\n"
   ]
  },
  {
   "cell_type": "markdown",
   "id": "c0acedf1-8bb8-496b-a547-0318b3da2cb2",
   "metadata": {},
   "source": [
    "Python Input and Output"
   ]
  },
  {
   "cell_type": "code",
   "execution_count": 32,
   "id": "d8e21f92-1022-498f-8e36-711227933da3",
   "metadata": {},
   "outputs": [
    {
     "name": "stdout",
     "output_type": "stream",
     "text": [
      "Good Morning You are amazingly amazing\n"
     ]
    }
   ],
   "source": [
    "#end\n",
    "print(\"Good Morning\", end=' ')\n",
    "print(\"You are amazingly amazing\")"
   ]
  },
  {
   "cell_type": "code",
   "execution_count": 33,
   "id": "d8b43a5a-cd9b-4327-8c90-ed05e7b1f005",
   "metadata": {},
   "outputs": [
    {
     "name": "stdout",
     "output_type": "stream",
     "text": [
      "You.are.Constance\n"
     ]
    }
   ],
   "source": [
    "#sep\n",
    "print(\"You\", \"are\", \"Constance\", sep = '.')"
   ]
  },
  {
   "cell_type": "code",
   "execution_count": 34,
   "id": "74d43879-f4eb-4b18-9549-b2b26cf98c6b",
   "metadata": {},
   "outputs": [
    {
     "name": "stdout",
     "output_type": "stream",
     "text": [
      "The value of x is 5 and the value of y is 6\n"
     ]
    }
   ],
   "source": [
    "#Output Formatting\n",
    "x=5\n",
    "y=6\n",
    "\n",
    "print(\"The value of x is {} and the value of y is {}\".format(x, y))"
   ]
  },
  {
   "cell_type": "code",
   "execution_count": 36,
   "id": "25b9adfa-fe6b-48e1-88a7-eb221f3ff851",
   "metadata": {},
   "outputs": [
    {
     "name": "stdin",
     "output_type": "stream",
     "text": [
      "Enter your input: 56\n"
     ]
    },
    {
     "name": "stdout",
     "output_type": "stream",
     "text": [
      "56\n"
     ]
    }
   ],
   "source": [
    "#convert user input into a number\n",
    "number= int(input(\"Enter your input:\"))\n",
    "print(number)"
   ]
  },
  {
   "cell_type": "code",
   "execution_count": 38,
   "id": "67a0c0c9-f429-48fa-b72b-adc9360f1e2c",
   "metadata": {},
   "outputs": [
    {
     "name": "stdout",
     "output_type": "stream",
     "text": [
      "23\n"
     ]
    }
   ],
   "source": [
    "a=10\n",
    "b=13\n",
    "a+=b # a= a + b\n",
    "print(a)"
   ]
  },
  {
   "cell_type": "code",
   "execution_count": 39,
   "id": "2f67f258-a2fe-4f75-b98c-e8e91fa7a351",
   "metadata": {},
   "outputs": [
    {
     "name": "stdout",
     "output_type": "stream",
     "text": [
      "False\n"
     ]
    }
   ],
   "source": [
    "print(a<b)"
   ]
  },
  {
   "cell_type": "markdown",
   "id": "515e80c1-ee0d-437e-a26a-95a92a3ad122",
   "metadata": {},
   "source": [
    "Logical Operators\n",
    "- AND; only TRUE if both operators are true\n",
    "- OR; TRUE if at least one of the operators is true\n",
    "- NOT; TRUE if the operand is FALSE and vice versa\n",
    "\n",
    "  Special Operators\n",
    "  1. Idetity Operators\n",
    "  - is; TRUE if operands are identical\n",
    "  - is not; TRUE if operands are not identical\n",
    " \n",
    "  2. Membership Operators\n",
    "     - in; TRUE if value is found in the sequence\n",
    "     - not in; TRUE if value is not found in the sequence\n",
    "       "
   ]
  },
  {
   "cell_type": "code",
   "execution_count": 40,
   "id": "76f83d42-3517-4fb2-876f-51f327a5e401",
   "metadata": {},
   "outputs": [
    {
     "name": "stdout",
     "output_type": "stream",
     "text": [
      "True\n"
     ]
    }
   ],
   "source": [
    "name=(\"Constance\")\n",
    "print('C' in name)"
   ]
  },
  {
   "cell_type": "markdown",
   "id": "ac036b19-15d9-4c19-a3f0-655c910fa82e",
   "metadata": {},
   "source": [
    "Namespace\n",
    "- a collection of names\n",
    "- associate with variables\n",
    "- allows use of same name for different variables\n",
    "  Types of Namespace\n",
    "  1. Built in Names\n",
    "     - created when the python interpreter is run\n",
    "     - exists as long as the interpreter runs\n",
    "     - functions like id(), print()\n",
    "  2. Global Namespace (Module)\n",
    "     - Each module creates its won\n",
    "     - Different namespaces are isolated\n",
    "  3. Local Namespace (Function)\n",
    "     - created when a function is called\n",
    "     - Has all the names defined in it\n",
    "       "
   ]
  },
  {
   "cell_type": "markdown",
   "id": "e2ca8a15-cdb5-4939-b589-3e32634e4e77",
   "metadata": {},
   "source": [
    "Python Variable Scope\n",
    "- A scope is the portion of the program where a namespace can be accessed directly without using any prefix\n",
    "- At any given moment, there are at least three nested scopes:\n",
    " 1. Scope of the current functions which has local names\n",
    " 2. Scope of the modules which has global names\n",
    " 3. Outermost scope which has built - in names"
   ]
  },
  {
   "cell_type": "code",
   "execution_count": 48,
   "id": "e8ca3ca4-e494-4e74-85c1-a4d66644bb5a",
   "metadata": {},
   "outputs": [
    {
     "name": "stdout",
     "output_type": "stream",
     "text": [
      "10\n",
      "20\n",
      "30\n"
     ]
    }
   ],
   "source": [
    "# global_var is in the global namespace\n",
    "global_var = 10\n",
    "\n",
    "def outer_function():\n",
    "    #  outer_var is in the local namespace \n",
    "    outer_var = 20\n",
    "\n",
    "    def inner_function():\n",
    "        #  inner_var is in the nested local namespace \n",
    "        inner_var = 30\n",
    "\n",
    "        print(inner_var)\n",
    "\n",
    "    print(outer_var)\n",
    "\n",
    "    inner_function()\n",
    "\n",
    "# print the value of the global variable\n",
    "print(global_var)\n",
    "\n",
    "# call the outer function and print local and nested local variables\n",
    "outer_function()"
   ]
  },
  {
   "cell_type": "markdown",
   "id": "057e6b9d-0576-428e-9c41-904fc4178556",
   "metadata": {},
   "source": [
    "Use of Global Keyword"
   ]
  },
  {
   "cell_type": "code",
   "execution_count": 49,
   "id": "9869c15e-4020-4c3c-8e34-79f3516fb0b5",
   "metadata": {},
   "outputs": [
    {
     "name": "stdout",
     "output_type": "stream",
     "text": [
      "10\n",
      "30\n"
     ]
    }
   ],
   "source": [
    "# define global variable \n",
    "global_var = 10\n",
    "\n",
    "def my_function():\n",
    "    # define local variable\n",
    "    local_var = 20\n",
    "\n",
    "    # modify global variable value \n",
    "    global global_var\n",
    "    global_var = 30\n",
    "\n",
    "# print global variable value\n",
    "print(global_var)\n",
    "\n",
    "# call the function and modify the global variable\n",
    "my_function()\n",
    "\n",
    "# print the modified value of the global variable\n",
    "print(global_var)"
   ]
  },
  {
   "cell_type": "code",
   "execution_count": null,
   "id": "653e9a4a-49ff-4bf2-8c62-c8d749138894",
   "metadata": {},
   "outputs": [],
   "source": []
  }
 ],
 "metadata": {
  "kernelspec": {
   "display_name": "Python 3 (ipykernel)",
   "language": "python",
   "name": "python3"
  },
  "language_info": {
   "codemirror_mode": {
    "name": "ipython",
    "version": 3
   },
   "file_extension": ".py",
   "mimetype": "text/x-python",
   "name": "python",
   "nbconvert_exporter": "python",
   "pygments_lexer": "ipython3",
   "version": "3.11.7"
  }
 },
 "nbformat": 4,
 "nbformat_minor": 5
}
